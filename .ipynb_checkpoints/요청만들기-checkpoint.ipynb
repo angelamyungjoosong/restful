{
 "cells": [
  {
   "cell_type": "markdown",
   "id": "f2826e4e",
   "metadata": {},
   "source": [
    "## flask 요청"
   ]
  },
  {
   "cell_type": "code",
   "execution_count": 1,
   "id": "6db834d2",
   "metadata": {},
   "outputs": [
    {
     "data": {
      "text/plain": [
       "{'name_en': 'Stilnox CR Tab. 12.5mg',\n",
       " 'name_ko': '스틸녹스CR정12.5mg',\n",
       " 'size': '1',\n",
       " 'ing_code': '250504ATR',\n",
       " 'ing_name': '졸피뎀타르타르산염 12.5mg'}"
      ]
     },
     "execution_count": 1,
     "metadata": {},
     "output_type": "execute_result"
    }
   ],
   "source": [
    "import requests\n",
    "\n",
    "\n",
    "# medicine 정보 요청\n",
    "r = requests.get('http://127.0.0.1:5000/medicine/MZPD12')\n",
    "r.json()"
   ]
  },
  {
   "cell_type": "code",
   "execution_count": 2,
   "id": "a8ebc260",
   "metadata": {},
   "outputs": [
    {
     "name": "stdout",
     "output_type": "stream",
     "text": [
      "[{'email': 'trave1@aiot.com', 'mid': 'MZPD10'}]\n"
     ]
    }
   ],
   "source": [
    "# prescriptions 정보 요청\n",
    "r = requests.get('http://127.0.0.1:5000/prescription')\n",
    "print(r.json())"
   ]
  },
  {
   "cell_type": "code",
   "execution_count": 3,
   "id": "8c3b2862",
   "metadata": {},
   "outputs": [
    {
     "name": "stdout",
     "output_type": "stream",
     "text": [
      "{'mid': 'EURE', 'email': 'trave2@aiot.com'}\n"
     ]
    }
   ],
   "source": [
    "# prescriptions 생성 요청\n",
    "# json 인자를 활용하여 요청\n",
    "r = requests.post('http://127.0.0.1:5000/prescription',\n",
    "                  json={'mid':'EURE',\n",
    "                        'email':'trave2@aiot.com'\n",
    "                        })\n",
    "print(r.json())"
   ]
  },
  {
   "cell_type": "code",
   "execution_count": 4,
   "id": "01ce553e",
   "metadata": {},
   "outputs": [
    {
     "name": "stdout",
     "output_type": "stream",
     "text": [
      "[{'email': 'trave1@aiot.com', 'mid': 'MZPD10'}, {'mid': 'EURE', 'email': 'trave2@aiot.com'}]\n"
     ]
    }
   ],
   "source": [
    "r = requests.get('http://127.0.0.1:5000/prescription')\n",
    "print(r.json())"
   ]
  },
  {
   "cell_type": "code",
   "execution_count": 5,
   "id": "86a66218",
   "metadata": {},
   "outputs": [
    {
     "name": "stdout",
     "output_type": "stream",
     "text": [
      "{'img_shape': [384, 640, 3]}\n"
     ]
    }
   ],
   "source": [
    "# 이미지 업로드 요청\n",
    "f = {'image': open('img.jpg', 'rb')}\n",
    "r = requests.post('http://127.0.0.1:5000/file',files=f)\n",
    "print(r.json())"
   ]
  },
  {
   "cell_type": "markdown",
   "id": "506f18cc",
   "metadata": {},
   "source": [
    "## fast api 요청"
   ]
  },
  {
   "cell_type": "code",
   "execution_count": 6,
   "id": "1c8bee9d",
   "metadata": {},
   "outputs": [
    {
     "name": "stdout",
     "output_type": "stream",
     "text": [
      "{'ing_code': '250504ATR', 'ing_name': '졸피뎀타르타르산염 12.5mg', 'mid': 'MZPD12', 'name_en': 'Stilnox CR Tab. 12.5mg', 'name_ko': '스틸녹스CR정12.5mg', 'size': '1'} \n",
      "\n"
     ]
    }
   ],
   "source": [
    "r = requests.get('http://127.0.0.1:5000/medicine/MZPD12')\n",
    "print(r.json(),'\\n')"
   ]
  },
  {
   "cell_type": "code",
   "execution_count": 7,
   "id": "06dd5b61",
   "metadata": {},
   "outputs": [
    {
     "name": "stdout",
     "output_type": "stream",
     "text": [
      "[{'date': 'Mon, 29 Jan 2024 15:59:19 GMT', 'mid': 'ECOT', 'uid': 1}, {'date': 'Mon, 29 Jan 2024 16:06:18 GMT', 'mid': 'EURE', 'uid': 3}, {'date': 'Mon, 29 Jan 2024 16:06:18 GMT', 'mid': 'IIVGT2', 'uid': 3}, {'date': 'Mon, 29 Jan 2024 16:06:18 GMT', 'mid': 'MAFL', 'uid': 3}, {'date': 'Wed, 31 Jan 2024 13:29:34 GMT', 'mid': 'MZPD10', 'uid': 1}] \n",
      "\n"
     ]
    }
   ],
   "source": [
    "r = requests.get('http://127.0.0.1:5000/prescription')\n",
    "print(r.json(),'\\n')"
   ]
  },
  {
   "cell_type": "code",
   "execution_count": 9,
   "id": "55a1ebf4",
   "metadata": {},
   "outputs": [
    {
     "name": "stdout",
     "output_type": "stream",
     "text": [
      "{'date': 'Thu, 01 Feb 2024 13:48:08 GMT', 'mid': 'EURE', 'uid': 1} \n",
      "\n"
     ]
    }
   ],
   "source": [
    "r = requests.post('http://127.0.0.1:5000/prescription',\n",
    "                  json={'mid':'EURE',\n",
    "                        'uid':1\n",
    "                        })\n",
    "print(r.json(),'\\n')"
   ]
  },
  {
   "cell_type": "code",
   "execution_count": 13,
   "id": "437db2ac",
   "metadata": {},
   "outputs": [
    {
     "data": {
      "text/plain": [
       "([{'date': 'Mon, 29 Jan 2024 15:59:19 GMT', 'mid': 'ECOT', 'uid': 1},\n",
       "  {'date': 'Mon, 29 Jan 2024 16:06:18 GMT', 'mid': 'EURE', 'uid': 3},\n",
       "  {'date': 'Mon, 29 Jan 2024 16:06:18 GMT', 'mid': 'IIVGT2', 'uid': 3},\n",
       "  {'date': 'Mon, 29 Jan 2024 16:06:18 GMT', 'mid': 'MAFL', 'uid': 3},\n",
       "  {'date': 'Wed, 31 Jan 2024 13:29:34 GMT', 'mid': 'MZPD10', 'uid': 1},\n",
       "  {'date': 'Thu, 01 Feb 2024 13:48:08 GMT', 'mid': 'EURE', 'uid': 1}],\n",
       " '\\n')"
      ]
     },
     "execution_count": 13,
     "metadata": {},
     "output_type": "execute_result"
    }
   ],
   "source": [
    "r = requests.get('http://127.0.0.1:5000/prescription')\n",
    "r.json(),'\\n'"
   ]
  },
  {
   "cell_type": "code",
   "execution_count": 12,
   "id": "f53cda1a",
   "metadata": {},
   "outputs": [
    {
     "data": {
      "text/plain": [
       "[{'date': 'Mon, 29 Jan 2024 15:59:19 GMT', 'mid': 'ECOT', 'uid': 1},\n",
       " {'date': 'Wed, 31 Jan 2024 13:29:34 GMT', 'mid': 'MZPD10', 'uid': 1},\n",
       " {'date': 'Thu, 01 Feb 2024 13:48:08 GMT', 'mid': 'EURE', 'uid': 1}]"
      ]
     },
     "execution_count": 12,
     "metadata": {},
     "output_type": "execute_result"
    }
   ],
   "source": [
    "r = requests.get('http://127.0.0.1:5000/prescription/1')\n",
    "r.json()"
   ]
  },
  {
   "cell_type": "code",
   "execution_count": 14,
   "id": "1bb0514d",
   "metadata": {},
   "outputs": [
    {
     "data": {
      "text/plain": [
       "{'date': 'Mon, 29 Jan 2024 16:06:18 GMT', 'mid': 'EURE', 'uid': 3}"
      ]
     },
     "execution_count": 14,
     "metadata": {},
     "output_type": "execute_result"
    }
   ],
   "source": [
    "r = requests.post('http://127.0.0.1:5000/prescription/3',\n",
    "                  json={'mid':'EURE',})\n",
    "r.json()"
   ]
  },
  {
   "cell_type": "markdown",
   "id": "b382da92",
   "metadata": {},
   "source": [
    "## 실습 요청"
   ]
  },
  {
   "cell_type": "code",
   "execution_count": 16,
   "id": "38ead5b8",
   "metadata": {},
   "outputs": [
    {
     "name": "stdout",
     "output_type": "stream",
     "text": [
      "{'ing_code': '250504ATR', 'ing_name': '졸피뎀타르타르산염 12.5mg', 'm_id': 'MZPD12', 'name_en': 'Stilnox CR Tab. 12.5mg', 'name_ko': '스틸녹스CR정12.5mg', 'size': '1'} \n",
      "\n"
     ]
    }
   ],
   "source": [
    "r = requests.get('http://127.0.0.1:5000/medicine/MZPD12')\n",
    "print(r.json(),'\\n')"
   ]
  },
  {
   "cell_type": "code",
   "execution_count": 19,
   "id": "17254f93",
   "metadata": {},
   "outputs": [
    {
     "name": "stdout",
     "output_type": "stream",
     "text": [
      "{'city': '수정구', 'locate': '경기도 성남시 수정구 수정로 341, 2층 207호 (신흥동)', 'name': '산성약국', 'phone_num': '031-747-5816', 's_id': 3} \n",
      "\n"
     ]
    }
   ],
   "source": [
    "r = requests.get('http://127.0.0.1:5000/store/3')\n",
    "print(r.json(),'\\n')"
   ]
  },
  {
   "cell_type": "code",
   "execution_count": 22,
   "id": "25b96da0",
   "metadata": {},
   "outputs": [
    {
     "data": {
      "text/plain": [
       "[{'m_id': 'MMPDC10',\n",
       "  'manage_date': 'Tue, 30 Jan 2024 13:44:56 GMT',\n",
       "  's_id': 29},\n",
       " {'m_id': 'ETERBI',\n",
       "  'manage_date': 'Tue, 30 Jan 2024 13:44:57 GMT',\n",
       "  's_id': 29},\n",
       " {'m_id': 'EURE', 'manage_date': 'Tue, 30 Jan 2024 13:44:57 GMT', 's_id': 29},\n",
       " {'m_id': 'IHG', 'manage_date': 'Tue, 30 Jan 2024 13:44:57 GMT', 's_id': 313},\n",
       " {'m_id': 'MACAM',\n",
       "  'manage_date': 'Tue, 30 Jan 2024 13:44:57 GMT',\n",
       "  's_id': 142},\n",
       " {'m_id': 'MZIPRA40',\n",
       "  'manage_date': 'Tue, 30 Jan 2024 13:44:57 GMT',\n",
       "  's_id': 142},\n",
       " {'m_id': 'EURE', 'manage_date': 'Tue, 30 Jan 2024 13:44:57 GMT', 's_id': 142}]"
      ]
     },
     "execution_count": 22,
     "metadata": {},
     "output_type": "execute_result"
    }
   ],
   "source": [
    "r = requests.get('http://127.0.0.1:5000/inventory/list')\n",
    "r.json()"
   ]
  },
  {
   "cell_type": "code",
   "execution_count": 26,
   "id": "a5639b5d",
   "metadata": {},
   "outputs": [
    {
     "data": {
      "text/plain": [
       "{'m_id': 'EURE', 'manage_date': 'Thu, 01 Feb 2024 14:31:39 GMT', 's_id': 1}"
      ]
     },
     "execution_count": 26,
     "metadata": {},
     "output_type": "execute_result"
    }
   ],
   "source": [
    "r = requests.post('http://127.0.0.1:5000/inventory',\n",
    "                  json={'mid':'EURE',\n",
    "                        'sid':'1',\n",
    "                        'price':5000,\n",
    "                        'count':1\n",
    "                       })\n",
    "r.json()"
   ]
  },
  {
   "cell_type": "code",
   "execution_count": 28,
   "id": "92e00f1f",
   "metadata": {},
   "outputs": [
    {
     "data": {
      "text/plain": [
       "[{'m_id': 'EURE', 'manage_date': 'Thu, 01 Feb 2024 14:31:39 GMT', 's_id': 1},\n",
       " {'m_id': 'EURE', 'manage_date': 'Tue, 30 Jan 2024 13:44:57 GMT', 's_id': 29},\n",
       " {'m_id': 'EURE', 'manage_date': 'Thu, 01 Feb 2024 14:30:22 GMT', 's_id': 99}]"
      ]
     },
     "execution_count": 28,
     "metadata": {},
     "output_type": "execute_result"
    }
   ],
   "source": [
    "r = requests.get('http://127.0.0.1:5000/inventory',\n",
    "                  json={'mid':'EURE',\n",
    "                        'city':'수정구'\n",
    "                       })\n",
    "r.json()"
   ]
  },
  {
   "cell_type": "code",
   "execution_count": null,
   "id": "af19c222",
   "metadata": {},
   "outputs": [],
   "source": []
  }
 ],
 "metadata": {
  "kernelspec": {
   "display_name": "Python 3 (ipykernel)",
   "language": "python",
   "name": "python3"
  },
  "language_info": {
   "codemirror_mode": {
    "name": "ipython",
    "version": 3
   },
   "file_extension": ".py",
   "mimetype": "text/x-python",
   "name": "python",
   "nbconvert_exporter": "python",
   "pygments_lexer": "ipython3",
   "version": "3.10.11"
  }
 },
 "nbformat": 4,
 "nbformat_minor": 5
}
